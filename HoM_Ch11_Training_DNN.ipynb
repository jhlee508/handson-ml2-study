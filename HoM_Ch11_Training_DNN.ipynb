{
  "nbformat": 4,
  "nbformat_minor": 0,
  "metadata": {
    "colab": {
      "name": "HoM_Ch11_Training_DNN.ipynb",
      "provenance": [],
      "toc_visible": true,
      "machine_shape": "hm",
      "include_colab_link": true
    },
    "kernelspec": {
      "name": "python3",
      "display_name": "Python 3"
    },
    "accelerator": "GPU"
  },
  "cells": [
    {
      "cell_type": "markdown",
      "metadata": {
        "id": "view-in-github",
        "colab_type": "text"
      },
      "source": [
        "<a href=\"https://colab.research.google.com/github/jhlee508/handson-ml2-study/blob/master/HoM_Ch11_Training_DNN.ipynb\" target=\"_parent\"><img src=\"https://colab.research.google.com/assets/colab-badge.svg\" alt=\"Open In Colab\"/></a>"
      ]
    },
    {
      "cell_type": "code",
      "metadata": {
        "id": "xUpx_lz1-qJp"
      },
      "source": [
        "import tensorflow as tf\n",
        "import numpy as np\n",
        "import pandas as pd\n",
        "import matplotlib.pyplot as plt"
      ],
      "execution_count": 8,
      "outputs": []
    },
    {
      "cell_type": "markdown",
      "metadata": {
        "id": "YYX6BHFD-j0m"
      },
      "source": [
        "## 1. 그래디언트 소실과 폭주 문제"
      ]
    },
    {
      "cell_type": "markdown",
      "metadata": {
        "id": "cks0Iqjx-qa-"
      },
      "source": [
        "### 1.1 글로럿과 He 초기화"
      ]
    },
    {
      "cell_type": "code",
      "metadata": {
        "id": "tpGbiDns-DA-",
        "colab": {
          "base_uri": "https://localhost:8080/"
        },
        "outputId": "00a28134-dad5-4c88-aa49-f5935b13d18d"
      },
      "source": [
        "# fan in(입력의 연결 개수) 기반\n",
        "tf.keras.layers.Dense(10, activation = 'relu', kernel_initializer='he_normal')\n",
        "\n",
        "# fan out(출력의 연결 개수) 기반\n",
        "he_avg_init = tf.keras.initializers.VarianceScaling(scale = 2., mode = 'fan_avg',\n",
        "                                                    distribution='uniform')\n",
        "\n",
        "tf.keras.layers.Dense(10, activation='relu', kernel_initializer=he_avg_init)"
      ],
      "execution_count": 10,
      "outputs": [
        {
          "output_type": "execute_result",
          "data": {
            "text/plain": [
              "<tensorflow.python.keras.layers.core.Dense at 0x7f173a187390>"
            ]
          },
          "metadata": {
            "tags": []
          },
          "execution_count": 10
        }
      ]
    },
    {
      "cell_type": "markdown",
      "metadata": {
        "id": "Uc1Ub54fOnrq"
      },
      "source": [
        "keras는 디폴트로 Glorot_Uniform 사용"
      ]
    },
    {
      "cell_type": "markdown",
      "metadata": {
        "id": "A6jYd1KdBGzH"
      },
      "source": [
        "### 1.2 수렴하지 않는 활성화 함수"
      ]
    },
    {
      "cell_type": "code",
      "metadata": {
        "id": "JWRO79UT_axJ"
      },
      "source": [
        "# LeakyReLU\n",
        "model = tf.keras.models.Sequential([\n",
        "                                 tf.keras.layers.Dense(10, kernel_initializer=\"he_normal\"),\n",
        "                                 tf.keras.layers.LeakyReLU(alpha = 0.2) # 기본값은 0.3\n",
        "])"
      ],
      "execution_count": 15,
      "outputs": []
    },
    {
      "cell_type": "code",
      "metadata": {
        "id": "xUFgfaltPQC_"
      },
      "source": [
        "# PReLU\r\n",
        "model = tf.keras.models.Sequential([\r\n",
        "                                 tf.keras.layers.Dense(10, kernel_initializer=\"he_normal\"),\r\n",
        "                                 tf.keras.layers.PReLU()\r\n",
        "])"
      ],
      "execution_count": 16,
      "outputs": []
    },
    {
      "cell_type": "code",
      "metadata": {
        "id": "Bp1iuEkBO4NV"
      },
      "source": [
        "# SELU 활성화 함수 사용시\r\n",
        "layer = tf.keras.layers.Dense(10, activation='selu', kernel_initializer='lecun_normal')"
      ],
      "execution_count": 17,
      "outputs": []
    },
    {
      "cell_type": "markdown",
      "metadata": {
        "id": "7FurpJSCBMHL"
      },
      "source": [
        "### 1.3 배치 정규화"
      ]
    },
    {
      "cell_type": "code",
      "metadata": {
        "id": "pp7vHGXoBPbL",
        "colab": {
          "base_uri": "https://localhost:8080/"
        },
        "outputId": "f003e242-5c41-4c88-b605-e4f10af51eac"
      },
      "source": [
        "model = tf.keras.models.Sequential([\n",
        "           tf.keras.layers.Flatten(input_shape = [28, 28]),\n",
        "           tf.keras.layers.BatchNormalization(),\n",
        "           tf.keras.layers.Dense(300, activation='elu', kernel_initializer='he_normal'),\n",
        "           tf.keras.layers.BatchNormalization(),\n",
        "           tf.keras.layers.Dense(100, activation='elu', kernel_initializer='he_normal'),\n",
        "           tf.keras.layers.BatchNormalization(),\n",
        "           tf.keras.layers.Dense(10, activation='softmax')\n",
        "           ])\n",
        "\n",
        "model.summary()"
      ],
      "execution_count": 18,
      "outputs": [
        {
          "output_type": "stream",
          "text": [
            "Model: \"sequential_4\"\n",
            "_________________________________________________________________\n",
            "Layer (type)                 Output Shape              Param #   \n",
            "=================================================================\n",
            "flatten (Flatten)            (None, 784)               0         \n",
            "_________________________________________________________________\n",
            "batch_normalization (BatchNo (None, 784)               3136      \n",
            "_________________________________________________________________\n",
            "dense_16 (Dense)             (None, 300)               235500    \n",
            "_________________________________________________________________\n",
            "batch_normalization_1 (Batch (None, 300)               1200      \n",
            "_________________________________________________________________\n",
            "dense_17 (Dense)             (None, 100)               30100     \n",
            "_________________________________________________________________\n",
            "batch_normalization_2 (Batch (None, 100)               400       \n",
            "_________________________________________________________________\n",
            "dense_18 (Dense)             (None, 10)                1010      \n",
            "=================================================================\n",
            "Total params: 271,346\n",
            "Trainable params: 268,978\n",
            "Non-trainable params: 2,368\n",
            "_________________________________________________________________\n"
          ],
          "name": "stdout"
        }
      ]
    },
    {
      "cell_type": "code",
      "metadata": {
        "colab": {
          "base_uri": "https://localhost:8080/"
        },
        "id": "SatCRvgXB1Z9",
        "outputId": "a048315a-37bb-45d3-d1fc-f3449ab20032"
      },
      "source": [
        "# 첫번째 배치 정규화 층의 파라미터\n",
        "[(var.name, var.trainable) for var in model.layers[1].variables]"
      ],
      "execution_count": 20,
      "outputs": [
        {
          "output_type": "execute_result",
          "data": {
            "text/plain": [
              "[('batch_normalization/gamma:0', True),\n",
              " ('batch_normalization/beta:0', True),\n",
              " ('batch_normalization/moving_mean:0', False),\n",
              " ('batch_normalization/moving_variance:0', False)]"
            ]
          },
          "metadata": {
            "tags": []
          },
          "execution_count": 20
        }
      ]
    },
    {
      "cell_type": "markdown",
      "metadata": {
        "id": "R-hsNEI1P0T-"
      },
      "source": [
        "감마와 베타는 역전파로 훈련되고, 나머지 이동평균과 분산은 훈련되지 않음"
      ]
    },
    {
      "cell_type": "code",
      "metadata": {
        "colab": {
          "base_uri": "https://localhost:8080/"
        },
        "id": "CcgCRAdcCYdR",
        "outputId": "cf7b8b0d-8c4c-48fa-d10b-87d106601edf"
      },
      "source": [
        "# Batch Normaliztion은 활성화 함수 이전에 사용하는 것이 더 좋다고 함\n",
        "# 따라서, 은닉층에서 활성화 함수를 지정하지 말고 배치 정규화 층 뒤에 별도의 층으로 추가\n",
        "\n",
        "model = tf.keras.models.Sequential([\n",
        "           tf.keras.layers.Flatten(input_shape = [28, 28]),\n",
        "           tf.keras.layers.BatchNormalization(),\n",
        "           tf.keras.layers.Dense(300, kernel_initializer='he_normal'),\n",
        "           tf.keras.layers.BatchNormalization(),\n",
        "           tf.keras.layers.Activation(\"elu\"),\n",
        "           tf.keras.layers.Dense(100, kernel_initializer='he_normal'),\n",
        "           tf.keras.layers.BatchNormalization(),\n",
        "           tf.keras.layers.Activation(\"elu\"),\n",
        "           tf.keras.layers.Dense(10, activation='softmax')\n",
        "           ])\n",
        "\n",
        "model.summary()"
      ],
      "execution_count": 21,
      "outputs": [
        {
          "output_type": "stream",
          "text": [
            "Model: \"sequential_5\"\n",
            "_________________________________________________________________\n",
            "Layer (type)                 Output Shape              Param #   \n",
            "=================================================================\n",
            "flatten_1 (Flatten)          (None, 784)               0         \n",
            "_________________________________________________________________\n",
            "batch_normalization_3 (Batch (None, 784)               3136      \n",
            "_________________________________________________________________\n",
            "dense_19 (Dense)             (None, 300)               235500    \n",
            "_________________________________________________________________\n",
            "batch_normalization_4 (Batch (None, 300)               1200      \n",
            "_________________________________________________________________\n",
            "activation (Activation)      (None, 300)               0         \n",
            "_________________________________________________________________\n",
            "dense_20 (Dense)             (None, 100)               30100     \n",
            "_________________________________________________________________\n",
            "batch_normalization_5 (Batch (None, 100)               400       \n",
            "_________________________________________________________________\n",
            "activation_1 (Activation)    (None, 100)               0         \n",
            "_________________________________________________________________\n",
            "dense_21 (Dense)             (None, 10)                1010      \n",
            "=================================================================\n",
            "Total params: 271,346\n",
            "Trainable params: 268,978\n",
            "Non-trainable params: 2,368\n",
            "_________________________________________________________________\n"
          ],
          "name": "stdout"
        }
      ]
    },
    {
      "cell_type": "markdown",
      "metadata": {
        "id": "6KJr_iG5Dcr2"
      },
      "source": [
        "### 1.4 그래디언트 클리핑\r\n",
        "- 역전파될 때 일정 임곗값을 넘어서지 못하게 그래디언트를 잘라내는 것"
      ]
    },
    {
      "cell_type": "code",
      "metadata": {
        "id": "w-S4L4h2DWS2"
      },
      "source": [
        "optimizer = tf.keras.optimizers.SGD(clipvalue = 1.0)\n",
        "model.compile(loss = \"mse\", optimizer=optimizer)"
      ],
      "execution_count": 22,
      "outputs": []
    },
    {
      "cell_type": "markdown",
      "metadata": {
        "id": "O0ZdZbSiHh-6"
      },
      "source": [
        "## 3. 고속 옵티마이저"
      ]
    },
    {
      "cell_type": "code",
      "metadata": {
        "id": "JXn20cI-EFS6"
      },
      "source": [
        "# 모멘텀 최적화\n",
        "optimizer = tf.keras.optimizers.SGD(lr = 0.001, momentum=0.9)"
      ],
      "execution_count": 24,
      "outputs": []
    },
    {
      "cell_type": "code",
      "metadata": {
        "id": "tdNF7g64Qz17"
      },
      "source": [
        "# NAG\r\n",
        "optimizer = tf.keras.optimizers.SGD(lr = 0.001, momentum=0.9, nesterov=True) "
      ],
      "execution_count": 25,
      "outputs": []
    },
    {
      "cell_type": "code",
      "metadata": {
        "id": "aRZWA7MvQ4dF"
      },
      "source": [
        "# AdaGrad - 심층신경망에서 사용하기 힘듬.\r\n",
        "optimizer = tf.keras.optimizers.Adagrad(lr = 0.001) "
      ],
      "execution_count": 26,
      "outputs": []
    },
    {
      "cell_type": "code",
      "metadata": {
        "id": "0pakztjNQ6GX"
      },
      "source": [
        "# RMSProp\r\n",
        "optimizer = tf.keras.optimizers.RMSprop(lr = 0.001, rho = 0.9)"
      ],
      "execution_count": 30,
      "outputs": []
    },
    {
      "cell_type": "code",
      "metadata": {
        "id": "_K1YdvQQQ1u7"
      },
      "source": [
        "# Adam\r\n",
        "optimizer = tf.keras.optimizers.Adam(lr = 0.001, beta_1=0.9, beta_2=0.999)"
      ],
      "execution_count": 31,
      "outputs": []
    },
    {
      "cell_type": "code",
      "metadata": {
        "id": "TLduwLKyRueN"
      },
      "source": [
        "# Adamax\r\n",
        "optimizer = tf.keras.optimizers.Adamax(lr = 0.001, beta_1=0.9, beta_2=0.999)"
      ],
      "execution_count": 33,
      "outputs": []
    },
    {
      "cell_type": "code",
      "metadata": {
        "id": "zwoaLNiXR8D3"
      },
      "source": [
        "# Nadam\r\n",
        "optimizer = tf.keras.optimizers.Nadam(lr = 0.001, beta_1=0.9, beta_2=0.999)"
      ],
      "execution_count": 34,
      "outputs": []
    },
    {
      "cell_type": "markdown",
      "metadata": {
        "id": "9C_FLAq3JLje"
      },
      "source": [
        "### 3.6 학습률 스케줄링"
      ]
    },
    {
      "cell_type": "code",
      "metadata": {
        "id": "ZDMA92KAJK5A"
      },
      "source": [
        "# 거듭제곱 기반 스케줄링 \n",
        "optimizer = tf.keras.optimizers.SGD(lr = 0.01, decay = 1e-4) # decay : 학습률을 나누기 위해 수행할 스텝 수의 역수"
      ],
      "execution_count": 37,
      "outputs": []
    },
    {
      "cell_type": "code",
      "metadata": {
        "id": "WCP3lYqrSe1T"
      },
      "source": [
        "# 지수기반 스케줄링\r\n",
        "def exponential_decay(lr0, s):\r\n",
        "  def exponential_decay_fn(epoch):\r\n",
        "    return lr0 * 0.1 ** (epoch/s)\r\n",
        "  \r\n",
        "  return exponential_decay_fn\r\n",
        "\r\n",
        "exponential_decay_fn = exponential_decay(lr0=0.01, s=20)"
      ],
      "execution_count": 38,
      "outputs": []
    },
    {
      "cell_type": "code",
      "metadata": {
        "id": "g8NoBYZOTATW"
      },
      "source": [
        "# LearningRateScheduler\r\n",
        "lr_scheduler = tf.keras.callbacks.LearningRateScheduler(exponential_decay_fn)"
      ],
      "execution_count": 39,
      "outputs": []
    },
    {
      "cell_type": "code",
      "metadata": {
        "id": "gS9gw_raTG65"
      },
      "source": [
        "# 실제 사용\r\n",
        "history = model.fit(X_train_scaled, y_train, epochs = 20,\r\n",
        "                    validation_data = (X_valid_scaled, y_valid)\r\n",
        "                    callbacks = [lr_scheduler]\r\n",
        "                    )"
      ],
      "execution_count": null,
      "outputs": []
    },
    {
      "cell_type": "code",
      "metadata": {
        "id": "rJcK455pS-_B"
      },
      "source": [
        "# 구간별 고정 스케줄링\r\n",
        "def piecewise_constant_fn(epoch):\r\n",
        "  if epoch < 5:\r\n",
        "    return 0.01\r\n",
        "  elif epoch < 15:\r\n",
        "    return 0.005\r\n",
        "  else:\r\n",
        "    return 0.001"
      ],
      "execution_count": null,
      "outputs": []
    },
    {
      "cell_type": "code",
      "metadata": {
        "id": "6DrfJTBeS6S7"
      },
      "source": [
        "# 성능 기반 스케쥴링\r\n",
        "lr_scheduler = tf.keras.callbacks.ReduceLROnPlateau(factor = 0.5, patience = 5)"
      ],
      "execution_count": 36,
      "outputs": []
    },
    {
      "cell_type": "code",
      "metadata": {
        "id": "WBjIURdFT-l_"
      },
      "source": [
        "# tf.keras 학습률 스케줄\r\n",
        "s = 20 * len(X_train) // 32 \r\n",
        "learning_rate = tf.keras.optimizers.schedules.ExponentialDecay(0.01, s, 0.1)\r\n",
        "optimizer = tf.keras.optimizers.SGD(learning_rate)"
      ],
      "execution_count": null,
      "outputs": []
    },
    {
      "cell_type": "markdown",
      "metadata": {
        "id": "nD4Y-tcLNaao"
      },
      "source": [
        "## 4. 규제를 사용해 과대적합 피하기"
      ]
    },
    {
      "cell_type": "markdown",
      "metadata": {
        "id": "guu7gkaaN1iN"
      },
      "source": [
        "### 4.1 L1, L2 규제"
      ]
    },
    {
      "cell_type": "code",
      "metadata": {
        "id": "XPfld8vyN0WM"
      },
      "source": [
        "# L2 규제\n",
        "layer = tf.keras.layers.Dense(100, activation = 'relu',\n",
        "                              kernel_initializer = \"he_normal\",\n",
        "                              kernel_regularizer = tf.keras.regularizers.l2(0.02))"
      ],
      "execution_count": 42,
      "outputs": []
    },
    {
      "cell_type": "code",
      "metadata": {
        "id": "sswPKrjkOsBh"
      },
      "source": [
        "# 파이썬 functools.partial() 함수\n",
        "from functools import partial\n",
        "\n",
        "RegularizedDense = partial(tf.keras.layers.Dense,\n",
        "                           activation = 'relu',\n",
        "                           kernel_initializer = \"he_normal\",\n",
        "                           kernel_regularizer = tf.keras.regularizers.l2(0.02))\n",
        "\n",
        "\n",
        "model = tf.keras.models.Sequential([\n",
        "                tf.keras.layers.Flatten(input_shape = [28, 28]),\n",
        "                RegularizedDense(300),\n",
        "                RegularizedDense(100),\n",
        "                RegularizedDense(10, activation = 'softmax',\n",
        "                                 kernel_initializer = 'glorot_uniform')\n",
        "                ])"
      ],
      "execution_count": 43,
      "outputs": []
    },
    {
      "cell_type": "markdown",
      "metadata": {
        "id": "YVAdfA1TPgYa"
      },
      "source": [
        "### 4.2 드롭아웃"
      ]
    },
    {
      "cell_type": "code",
      "metadata": {
        "id": "9L4mw7MoPeg-",
        "colab": {
          "base_uri": "https://localhost:8080/"
        },
        "outputId": "17b1fc7c-3593-4d6c-8494-0957fc484909"
      },
      "source": [
        "model = tf.keras.models.Sequential([\n",
        "           tf.keras.layers.Flatten(input_shape = [28, 28]),\n",
        "           tf.keras.layers.Dropout(rate = 0.2),\n",
        "           tf.keras.layers.Dense(300, kernel_initializer='he_normal'),\n",
        "           tf.keras.layers.Dropout(rate = 0.2),\n",
        "           tf.keras.layers.Activation(\"elu\"),\n",
        "           tf.keras.layers.Dense(100, kernel_initializer='he_normal'),\n",
        "           tf.keras.layers.Dropout(rate = 0.2),\n",
        "           tf.keras.layers.Dense(10, activation='softmax')\n",
        "           ])\n",
        "\n",
        "model.summary()"
      ],
      "execution_count": 44,
      "outputs": [
        {
          "output_type": "stream",
          "text": [
            "Model: \"sequential_7\"\n",
            "_________________________________________________________________\n",
            "Layer (type)                 Output Shape              Param #   \n",
            "=================================================================\n",
            "flatten_3 (Flatten)          (None, 784)               0         \n",
            "_________________________________________________________________\n",
            "dropout (Dropout)            (None, 784)               0         \n",
            "_________________________________________________________________\n",
            "dense_26 (Dense)             (None, 300)               235500    \n",
            "_________________________________________________________________\n",
            "dropout_1 (Dropout)          (None, 300)               0         \n",
            "_________________________________________________________________\n",
            "activation_2 (Activation)    (None, 300)               0         \n",
            "_________________________________________________________________\n",
            "dense_27 (Dense)             (None, 100)               30100     \n",
            "_________________________________________________________________\n",
            "dropout_2 (Dropout)          (None, 100)               0         \n",
            "_________________________________________________________________\n",
            "dense_28 (Dense)             (None, 10)                1010      \n",
            "=================================================================\n",
            "Total params: 266,610\n",
            "Trainable params: 266,610\n",
            "Non-trainable params: 0\n",
            "_________________________________________________________________\n"
          ],
          "name": "stdout"
        }
      ]
    },
    {
      "cell_type": "markdown",
      "metadata": {
        "id": "-qPkmvx-UdXf"
      },
      "source": [
        "### 4.3 몬테 카를로 드롭아웃\r\n",
        "- 테스트 시에 드롭아웃 사용"
      ]
    },
    {
      "cell_type": "code",
      "metadata": {
        "id": "60i94Nw3UzBR"
      },
      "source": [
        "y_probas = np.stack([model(X_test_scaled, training=True) for sample in range(100)])\r\n",
        "y_proba = y_probas.mean(axis = 0)"
      ],
      "execution_count": null,
      "outputs": []
    },
    {
      "cell_type": "markdown",
      "metadata": {
        "id": "ZzradxMBP6mI"
      },
      "source": [
        "### 4.4 맥스-노름 규제"
      ]
    },
    {
      "cell_type": "code",
      "metadata": {
        "id": "SlaGczz7P5o2",
        "colab": {
          "base_uri": "https://localhost:8080/"
        },
        "outputId": "080015dc-8d3a-4039-e5b7-57deff351a9b"
      },
      "source": [
        "tf.keras.layers.Dense(100, activation='elu',\n",
        "                      kernel_initializer = 'he_normal',\n",
        "                      kernel_constraint=tf.keras.constraints.max_norm(1.))"
      ],
      "execution_count": 46,
      "outputs": [
        {
          "output_type": "execute_result",
          "data": {
            "text/plain": [
              "<tensorflow.python.keras.layers.core.Dense at 0x7f17302ff410>"
            ]
          },
          "metadata": {
            "tags": []
          },
          "execution_count": 46
        }
      ]
    }
  ]
}